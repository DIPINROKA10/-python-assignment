{
 "cells": [
  {
   "cell_type": "code",
   "execution_count": 6,
   "id": "064cd425-dcc0-4c58-9925-e0fac1245e04",
   "metadata": {},
   "outputs": [
    {
     "name": "stdin",
     "output_type": "stream",
     "text": [
      "Enter the first number 10\n",
      "Enter the second number 3\n"
     ]
    },
    {
     "name": "stdout",
     "output_type": "stream",
     "text": [
      "addidtion 13.0\n",
      "subtraction 7.0\n",
      "division 3.3333333333333335\n",
      "Modulus 1.0\n",
      "Exponential 1000.0\n",
      "Floor Division 3.0\n"
     ]
    }
   ],
   "source": [
    "a=float(input(\"Enter the first number\"))\n",
    "b=float(input(\"Enter the second number\"))\n",
    "print(\"addidtion\",a+b)\n",
    "print(\"subtraction\",a-b)  \n",
    "print(\"division\",a/b)\n",
    "print(\"Modulus\",a%b)\n",
    "print(\"Exponential\",a**b)\n",
    "print(\"Floor Division\",a//b)"
   ]
  },
  {
   "cell_type": "code",
   "execution_count": 14,
   "id": "d5386ef9-c449-468e-9571-ac8c4a636081",
   "metadata": {},
   "outputs": [
    {
     "name": "stdin",
     "output_type": "stream",
     "text": [
      "Enter The Number 10\n",
      "Enter The Number 90\n"
     ]
    },
    {
     "name": "stdout",
     "output_type": "stream",
     "text": [
      "First number is less than or equal to the second\n"
     ]
    }
   ],
   "source": [
    "a=int(input(\"Enter The Number\"))\n",
    "b=int(input(\"Enter The Number\"))\n",
    "if a>b:\n",
    "      print(\"First Number is greater than second \")\n",
    "elif a==b:\n",
    "     print(\"First Number is equal to second number \")\n",
    "elif a<=b:\n",
    "     print(\"First number is less than or equal to the second\")\n",
    "  \n",
    "     "
   ]
  },
  {
   "cell_type": "code",
   "execution_count": 16,
   "id": "670a02f2-6381-4320-aac7-cc22067606d8",
   "metadata": {},
   "outputs": [
    {
     "name": "stdout",
     "output_type": "stream",
     "text": [
      "False\n",
      "True\n",
      "False\n",
      "True\n",
      "True\n",
      "True\n",
      "False\n",
      "True\n",
      "False\n"
     ]
    }
   ],
   "source": [
    "a=True\n",
    "b=False\n",
    "c=True\n",
    "print(a and b)\n",
    "print(a and c)\n",
    "print(b and c)\n",
    "print(a or b)\n",
    "print(b or a)\n",
    "print(a or c)\n",
    "print(not a)\n",
    "print(not b)\n",
    "print(not c)"
   ]
  },
  {
   "cell_type": "code",
   "execution_count": 17,
   "id": "09d1a0cd-6f44-42dc-b8a1-d5677c468510",
   "metadata": {},
   "outputs": [
    {
     "name": "stdin",
     "output_type": "stream",
     "text": [
      "Enter The string name dipin roka\n"
     ]
    },
    {
     "name": "stdout",
     "output_type": "stream",
     "text": [
      "10\n",
      "d a\n",
      "akor nipid\n",
      "DIPIN ROKA\n",
      "dipin roka\n"
     ]
    }
   ],
   "source": [
    "d=input(\"Enter The string name\")\n",
    "print(len(d))\n",
    "print(d[0],d[-1])\n",
    "print(d[::-1])\n",
    "print(d.upper())\n",
    "print(d.lower())"
   ]
  },
  {
   "cell_type": "code",
   "execution_count": 101,
   "id": "7374b138-c4ec-434d-be92-ec3ec5dc49be",
   "metadata": {},
   "outputs": [
    {
     "name": "stdin",
     "output_type": "stream",
     "text": [
      "enter your name: Dipin\n",
      "Enter your age: 18\n"
     ]
    },
    {
     "name": "stdout",
     "output_type": "stream",
     "text": [
      "Hello Dipin you are  18 years old\n"
     ]
    }
   ],
   "source": [
    "name=input(\"enter your name:\")\n",
    "age=int(input(\"Enter your age:\"))\n",
    "print(\"Hello\",name,\"you are \",age,\"years old\")\n"
   ]
  },
  {
   "cell_type": "code",
   "execution_count": 3,
   "id": "fba8afab-7a15-4399-a3f3-38d88b10ba99",
   "metadata": {},
   "outputs": [
    {
     "name": "stdin",
     "output_type": "stream",
     "text": [
      "Write a sentence: suiiiiiiiiiiiiiiiiiii\n",
      "Enter the word you want o search for: i\n"
     ]
    },
    {
     "name": "stdout",
     "output_type": "stream",
     "text": [
      "The word'i'is in the position:'2' \n"
     ]
    }
   ],
   "source": [
    "#problem number 6\n",
    "\n",
    "r=input(\"Write a sentence:\")\n",
    "s=input(\"Enter the word you want o search for:\")\n",
    "if s in r:\n",
    "    print(f\"The word'{s}'is in the position:'{r.index(s)}' \")\n",
    "elif s not in r:\n",
    "    print(\"the word does not exist\")\n",
    "\n",
    "\n",
    "\n",
    "\n"
   ]
  },
  {
   "cell_type": "code",
   "execution_count": 9,
   "id": "d72c6ab7-2d2e-4da4-ba46-005941562b40",
   "metadata": {},
   "outputs": [
    {
     "name": "stdin",
     "output_type": "stream",
     "text": [
      "enter the number 1: 2\n",
      "enter the number 2: 4\n",
      "enter the number 3: 6\n",
      "enter the number 4: 7\n",
      "enter the number 5: 8\n"
     ]
    },
    {
     "name": "stdout",
     "output_type": "stream",
     "text": [
      "[(2, 4, 6, 7)]\n",
      "19\n",
      "7\n",
      "2\n"
     ]
    }
   ],
   "source": [
    "#program no 7 list operations\n",
    "a=int(input(\"enter the number 1:\"))\n",
    "b=int(input(\"enter the number 2:\"))\n",
    "c=int(input(\"enter the number 3:\"))\n",
    "d=int(input(\"enter the number 4:\"))\n",
    "e=int(input(\"enter the number 5:\"))\n",
    "f=(a,b,c,d)\n",
    "print([f])\n",
    "print(sum(f))\n",
    "print(max(f))\n",
    "print(min(f))\n"
   ]
  },
  {
   "cell_type": "code",
   "execution_count": 3,
   "id": "9fc60dde-a6fc-45bb-acc3-8b30c1b42072",
   "metadata": {},
   "outputs": [
    {
     "name": "stdout",
     "output_type": "stream",
     "text": [
      "['APPLE', 'BANANA', 'MANGO', 'LITCHI', 'WATERMELON']\n"
     ]
    }
   ],
   "source": [
    "#program 8\n",
    "fruit=[\"APPLE\",\"ORANGE\",\"BANANA\",\"MANGO\",\"LITCHI\"]\n",
    "fruit.append(\"WATERMELON\")\n",
    "fruit.pop(1)\n",
    "print(fruit)\n",
    "\n",
    "\n",
    "\n",
    "\n",
    "\n"
   ]
  },
  {
   "cell_type": "code",
   "execution_count": 25,
   "id": "730a6c30-7e39-47a9-a87f-73706647452e",
   "metadata": {},
   "outputs": [
    {
     "name": "stdin",
     "output_type": "stream",
     "text": [
      "Enter five numbers separated by space:  4 5 6 7 8 \n"
     ]
    },
    {
     "name": "stdout",
     "output_type": "stream",
     "text": [
      "ascending order: [4, 5, 6, 7, 8]\n",
      "descending order: [8, 7, 6, 5, 4]\n"
     ]
    }
   ],
   "source": [
    "#program no 9\n",
    "numbers=input(\"Enter five numbers separated by space: \")\n",
    "numbers=[int(x) for x in numbers.split()]\n",
    "numbers.sort()\n",
    "print(\"ascending order:\", numbers)\n",
    "numbers.sort(reverse=True)\n",
    "print(\"descending order:\", numbers)\n"
   ]
  },
  {
   "cell_type": "code",
   "execution_count": 29,
   "id": "151553cb-7da0-469d-8981-c7ab6911b43c",
   "metadata": {},
   "outputs": [
    {
     "name": "stdout",
     "output_type": "stream",
     "text": [
      "[1, 2, 3, 4, 5]\n",
      "[6, 7, 8, 9, 10]\n",
      "[2, 3, 4, 5, 6, 7]\n"
     ]
    }
   ],
   "source": [
    "#program no 10\n",
    "numbers=[1,2,3,4,5,6,7,8,9,10]\n",
    "print(numbers[:5])\n",
    "print(numbers[-5:])\n",
    "print(numbers[1:7])\n",
    "\n",
    "\n"
   ]
  },
  {
   "cell_type": "code",
   "execution_count": 13,
   "id": "2100a7ee-4bfb-4802-8618-a11f9341bd68",
   "metadata": {},
   "outputs": [
    {
     "name": "stdin",
     "output_type": "stream",
     "text": [
      "enter the name of student 1 : dipin roka\n",
      "enter the marks of student in subject 1: 90\n",
      "enter the marks of student in subject 2: 78\n",
      "enter the marks of student in subject 3: 89\n"
     ]
    },
    {
     "name": "stdout",
     "output_type": "stream",
     "text": [
      "the average marks of dipin roka is 85.0\n"
     ]
    },
    {
     "name": "stdin",
     "output_type": "stream",
     "text": [
      "enter the name of student 2 : rohan\n",
      "enter the marks of student in subject 1: 100\n",
      "enter the marks of student in subject 2: 100\n",
      "enter the marks of student in subject 3: 98\n"
     ]
    },
    {
     "name": "stdout",
     "output_type": "stream",
     "text": [
      "the average marks of rohan is 99.0\n"
     ]
    },
    {
     "name": "stdin",
     "output_type": "stream",
     "text": [
      "enter the name of student 3 : ram\n",
      "enter the marks of student in subject 1: 89\n",
      "enter the marks of student in subject 2: 97\n",
      "enter the marks of student in subject 3: 57\n"
     ]
    },
    {
     "name": "stdout",
     "output_type": "stream",
     "text": [
      "the average marks of ram is: 81.0\n"
     ]
    }
   ],
   "source": [
    "#bonus question\n",
    "\n",
    "student=input(\"enter the name of student 1 :\")\n",
    "m1=float(input(\"enter the marks of student in subject 1:\"))\n",
    "m2=float(input(\"enter the marks of student in subject 2:\"))\n",
    "m3=float(input(\"enter the marks of student in subject 3:\"))\n",
    "total0=(m1+m2+m3)\n",
    "print(\"the average marks of\",student,\"is\",total0//3)\n",
    "\n",
    "\n",
    "student2=input(\"enter the name of student 2 :\")\n",
    "m21=float(input(\"enter the marks of student in subject 1:\"))\n",
    "m22=float(input(\"enter the marks of student in subject 2:\"))\n",
    "m23=float(input(\"enter the marks of student in subject 3:\"))\n",
    "total2=(m21+m22+m23)\n",
    "print(\"the average marks of\",student2,\"is\",total2//3)\n",
    "\n",
    "student3=input(\"enter the name of student 3 :\")\n",
    "m31=float(input(\"enter the marks of student in subject 1:\"))\n",
    "m32=float(input(\"enter the marks of student in subject 2:\"))\n",
    "m33=float(input(\"enter the marks of student in subject 3:\"))\n",
    "total=(m31+m32+m33)\n",
    "average=total//3\n",
    "print(\"the average marks of\",student3,\"is:\",average)\n",
    "\n",
    "\n",
    "\n"
   ]
  },
  {
   "cell_type": "code",
   "execution_count": null,
   "id": "d64ac314-467c-4344-86d0-079f6595a618",
   "metadata": {},
   "outputs": [],
   "source": []
  }
 ],
 "metadata": {
  "kernelspec": {
   "display_name": "Python 3 (ipykernel)",
   "language": "python",
   "name": "python3"
  },
  "language_info": {
   "codemirror_mode": {
    "name": "ipython",
    "version": 3
   },
   "file_extension": ".py",
   "mimetype": "text/x-python",
   "name": "python",
   "nbconvert_exporter": "python",
   "pygments_lexer": "ipython3",
   "version": "3.12.4"
  }
 },
 "nbformat": 4,
 "nbformat_minor": 5
}
